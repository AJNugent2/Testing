{
 "cells": [
  {
   "cell_type": "markdown",
   "id": "ec9b7a98",
   "metadata": {},
   "source": [
    "## Testing Jupyter\n",
    "Trying to import a python .py file created with nano into Jupyter"
   ]
  },
  {
   "cell_type": "code",
   "execution_count": 16,
   "id": "238e106c",
   "metadata": {},
   "outputs": [
    {
     "name": "stdout",
     "output_type": "stream",
     "text": [
      "Hello Brave New World\n"
     ]
    }
   ],
   "source": [
    "%run PythonFileTest.py"
   ]
  },
  {
   "cell_type": "code",
   "execution_count": 17,
   "id": "339d5262",
   "metadata": {},
   "outputs": [
    {
     "data": {
      "text/plain": [
       "7"
      ]
     },
     "execution_count": 17,
     "metadata": {},
     "output_type": "execute_result"
    }
   ],
   "source": [
    "add_two(3)"
   ]
  },
  {
   "cell_type": "code",
   "execution_count": null,
   "id": "25d03d09",
   "metadata": {},
   "outputs": [],
   "source": []
  }
 ],
 "metadata": {
  "kernelspec": {
   "display_name": "Python 3",
   "language": "python",
   "name": "python3"
  },
  "language_info": {
   "codemirror_mode": {
    "name": "ipython",
    "version": 3
   },
   "file_extension": ".py",
   "mimetype": "text/x-python",
   "name": "python",
   "nbconvert_exporter": "python",
   "pygments_lexer": "ipython3",
   "version": "3.8.8"
  }
 },
 "nbformat": 4,
 "nbformat_minor": 5
}
